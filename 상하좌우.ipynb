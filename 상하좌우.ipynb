{
  "nbformat": 4,
  "nbformat_minor": 0,
  "metadata": {
    "colab": {
      "provenance": [],
      "authorship_tag": "ABX9TyOPzD8gA2lbwEhxaB5Ng7y/"
    },
    "kernelspec": {
      "name": "python3",
      "display_name": "Python 3"
    },
    "language_info": {
      "name": "python"
    }
  },
  "cells": [
    {
      "cell_type": "code",
      "execution_count": 7,
      "metadata": {
        "colab": {
          "base_uri": "https://localhost:8080/"
        },
        "id": "J2Svwiyy-KSE",
        "outputId": "c3f3686c-8c9e-4b43-c0dd-23623278794f"
      },
      "outputs": [
        {
          "name": "stdout",
          "output_type": "stream",
          "text": [
            "5\n"
          ]
        }
      ],
      "source": [
        "n = int(input())"
      ]
    },
    {
      "cell_type": "code",
      "source": [
        "order = list(map(str,input().split()))"
      ],
      "metadata": {
        "colab": {
          "base_uri": "https://localhost:8080/"
        },
        "id": "OJlMZTs--RSW",
        "outputId": "31aee868-60f6-414b-b523-17928af08593"
      },
      "execution_count": 2,
      "outputs": [
        {
          "name": "stdout",
          "output_type": "stream",
          "text": [
            "R R R U D D\n"
          ]
        }
      ]
    },
    {
      "cell_type": "code",
      "source": [
        "x = 1\n",
        "y = 1"
      ],
      "metadata": {
        "id": "PfHsz2Rk-afJ"
      },
      "execution_count": 10,
      "outputs": []
    },
    {
      "cell_type": "code",
      "source": [
        "for c in order:\n",
        "  if c=='L': y -=1\n",
        "  elif c=='R': y +=1\n",
        "  elif c=='U': x -=1\n",
        "  else: x +=1\n",
        "  \n",
        "  if x>n: x=n\n",
        "  elif y>n: y=n\n",
        "  elif x<1: x=1\n",
        "  elif y<1: y=1\n",
        "\n",
        "print(x,y)"
      ],
      "metadata": {
        "colab": {
          "base_uri": "https://localhost:8080/"
        },
        "id": "lP8t-bHh-dUr",
        "outputId": "f5473532-d59c-4ec1-e7e2-10872d7bf24a"
      },
      "execution_count": 11,
      "outputs": [
        {
          "output_type": "stream",
          "name": "stdout",
          "text": [
            "3 4\n"
          ]
        }
      ]
    },
    {
      "cell_type": "code",
      "source": [
        "# 교재\n",
        "\n",
        "n = int(input())\n",
        "x, y = 1,1\n",
        "plans = input().split()"
      ],
      "metadata": {
        "colab": {
          "base_uri": "https://localhost:8080/"
        },
        "id": "F7ozmDFg_O3G",
        "outputId": "d658d44b-859a-42f4-cc16-c871da91b60a"
      },
      "execution_count": 12,
      "outputs": [
        {
          "name": "stdout",
          "output_type": "stream",
          "text": [
            "5\n",
            "R R R U D D\n"
          ]
        }
      ]
    },
    {
      "cell_type": "code",
      "source": [
        "dx = [0,0,-1,1]\n",
        "dy = [-1,1,0,0]\n",
        "move_types = ['L','R','U','D']"
      ],
      "metadata": {
        "id": "U5RyJu3wAFBP"
      },
      "execution_count": 17,
      "outputs": []
    },
    {
      "cell_type": "code",
      "source": [
        "for plan in plans:\n",
        "  for i in range(len(move_types)):\n",
        "    if plan==move_types[i]:\n",
        "      nx = x + dx[i]\n",
        "      ny = y + dy[i]\n",
        "  if nx < 1 or ny < 1 or nx > n or ny > n :\n",
        "    continue\n",
        "  x,y=nx,ny\n",
        "\n",
        "print(x,y)"
      ],
      "metadata": {
        "colab": {
          "base_uri": "https://localhost:8080/"
        },
        "id": "sDvRgcaDAUmm",
        "outputId": "1d3f8343-fdee-4cd3-e07a-f3742c81e394"
      },
      "execution_count": 18,
      "outputs": [
        {
          "output_type": "stream",
          "name": "stdout",
          "text": [
            "3 4\n"
          ]
        }
      ]
    },
    {
      "cell_type": "code",
      "source": [],
      "metadata": {
        "id": "lLXI1_6gA2MK"
      },
      "execution_count": null,
      "outputs": []
    }
  ]
}