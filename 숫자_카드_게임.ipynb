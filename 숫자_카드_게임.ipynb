{
  "nbformat": 4,
  "nbformat_minor": 0,
  "metadata": {
    "colab": {
      "provenance": [],
      "authorship_tag": "ABX9TyO658SvH7osb0JHAPY8yGY/"
    },
    "kernelspec": {
      "name": "python3",
      "display_name": "Python 3"
    },
    "language_info": {
      "name": "python"
    }
  },
  "cells": [
    {
      "cell_type": "code",
      "execution_count": 4,
      "metadata": {
        "colab": {
          "base_uri": "https://localhost:8080/"
        },
        "id": "F0ARmJy5fGw7",
        "outputId": "1eb9fd3f-589c-448c-ea3c-866242eb1a84"
      },
      "outputs": [
        {
          "name": "stdout",
          "output_type": "stream",
          "text": [
            "3 3\n"
          ]
        }
      ],
      "source": [
        "n,m=map(int,input().split())"
      ]
    },
    {
      "cell_type": "code",
      "source": [
        "res = 0 "
      ],
      "metadata": {
        "id": "d7fzZig6shZm"
      },
      "execution_count": 5,
      "outputs": []
    },
    {
      "cell_type": "code",
      "source": [
        "for _ in range(n):\n",
        "  arr = list(map(int,input().split()))\n",
        "  tmp = min(arr)\n",
        "  if tmp > res: res = tmp\n",
        "\n",
        "print(res)"
      ],
      "metadata": {
        "colab": {
          "base_uri": "https://localhost:8080/"
        },
        "id": "eMwdwIiSsRt9",
        "outputId": "e1928b16-1170-4fe9-e36a-15d63e3e8efc"
      },
      "execution_count": 6,
      "outputs": [
        {
          "output_type": "stream",
          "name": "stdout",
          "text": [
            "3 1 2\n",
            "4 1 4\n",
            "2 2 2\n",
            "2\n"
          ]
        }
      ]
    },
    {
      "cell_type": "code",
      "source": [
        "#v2 이차원 배열\n",
        "\n",
        "n,m=map(int,input().split())"
      ],
      "metadata": {
        "colab": {
          "base_uri": "https://localhost:8080/"
        },
        "id": "7qKBykcss1ol",
        "outputId": "25b297e6-40a0-44f6-c737-4e27b1f2ac64"
      },
      "execution_count": 7,
      "outputs": [
        {
          "name": "stdout",
          "output_type": "stream",
          "text": [
            "3 3\n"
          ]
        }
      ]
    },
    {
      "cell_type": "code",
      "source": [
        "arr = [list(map(int,input().split())) for _ in range(n)]"
      ],
      "metadata": {
        "colab": {
          "base_uri": "https://localhost:8080/"
        },
        "id": "jYjFfrLQuXHO",
        "outputId": "9b8d4894-3673-4819-ce5b-cb42d71ff2f4"
      },
      "execution_count": 8,
      "outputs": [
        {
          "name": "stdout",
          "output_type": "stream",
          "text": [
            "3 1 2\n",
            "4 1 4\n",
            "2 2 2\n"
          ]
        }
      ]
    },
    {
      "cell_type": "code",
      "source": [
        "res = 0"
      ],
      "metadata": {
        "id": "PZPbXc9_vm06"
      },
      "execution_count": null,
      "outputs": []
    },
    {
      "cell_type": "code",
      "source": [
        "for i in range(n):\n",
        "  tmp=min(arr[i])\n",
        "  if tmp > res: res = tmp\n",
        "\n",
        "print(res)"
      ],
      "metadata": {
        "colab": {
          "base_uri": "https://localhost:8080/"
        },
        "id": "xfBSX6VfvOue",
        "outputId": "0bdac8aa-71db-44c7-84df-3c7efb817e16"
      },
      "execution_count": 10,
      "outputs": [
        {
          "output_type": "stream",
          "name": "stdout",
          "text": [
            "2\n"
          ]
        }
      ]
    },
    {
      "cell_type": "code",
      "source": [],
      "metadata": {
        "id": "n1O6ML75vXbi"
      },
      "execution_count": null,
      "outputs": []
    }
  ]
}