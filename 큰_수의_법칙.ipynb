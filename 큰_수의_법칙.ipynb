{
  "nbformat": 4,
  "nbformat_minor": 0,
  "metadata": {
    "colab": {
      "provenance": [],
      "authorship_tag": "ABX9TyOxOb+PdPdjNHcSPVSoJJ4C"
    },
    "kernelspec": {
      "name": "python3",
      "display_name": "Python 3"
    },
    "language_info": {
      "name": "python"
    }
  },
  "cells": [
    {
      "cell_type": "code",
      "execution_count": 12,
      "metadata": {
        "colab": {
          "base_uri": "https://localhost:8080/"
        },
        "id": "_IVAQf61X18T",
        "outputId": "ab6a230a-5a2b-4887-eccc-5d7ba9ca6a9f"
      },
      "outputs": [
        {
          "name": "stdout",
          "output_type": "stream",
          "text": [
            "5 8 3\n"
          ]
        }
      ],
      "source": [
        "n, m, k = map(int,input().split())"
      ]
    },
    {
      "cell_type": "code",
      "source": [
        "print(n,m,k)"
      ],
      "metadata": {
        "colab": {
          "base_uri": "https://localhost:8080/"
        },
        "id": "wg3PzHdCYY71",
        "outputId": "e19b9c87-6abe-4dc4-9c6b-8f7471df2d2d"
      },
      "execution_count": 13,
      "outputs": [
        {
          "output_type": "stream",
          "name": "stdout",
          "text": [
            "5 8 3\n"
          ]
        }
      ]
    },
    {
      "cell_type": "code",
      "source": [
        "arr = list(map(int,input().split()))"
      ],
      "metadata": {
        "colab": {
          "base_uri": "https://localhost:8080/"
        },
        "id": "8GAzFGKYYkwS",
        "outputId": "96f5e33d-bd6d-41f4-9b75-c8eaa67feedc"
      },
      "execution_count": 5,
      "outputs": [
        {
          "name": "stdout",
          "output_type": "stream",
          "text": [
            "2 4 5 2 6\n"
          ]
        }
      ]
    },
    {
      "cell_type": "code",
      "source": [
        "arr"
      ],
      "metadata": {
        "colab": {
          "base_uri": "https://localhost:8080/"
        },
        "id": "QqgDfhUKY27-",
        "outputId": "9f94f965-1863-4805-8a80-f59962280042"
      },
      "execution_count": 6,
      "outputs": [
        {
          "output_type": "execute_result",
          "data": {
            "text/plain": [
              "[2, 4, 5, 2, 6]"
            ]
          },
          "metadata": {},
          "execution_count": 6
        }
      ]
    },
    {
      "cell_type": "code",
      "source": [
        "arr.sort(reverse=True) # 리스트를 정렬하는게 포인트트"
      ],
      "metadata": {
        "id": "DSiLwmeOYvEm"
      },
      "execution_count": 7,
      "outputs": []
    },
    {
      "cell_type": "code",
      "source": [
        "arr"
      ],
      "metadata": {
        "colab": {
          "base_uri": "https://localhost:8080/"
        },
        "id": "Hu2IlEVFY4fJ",
        "outputId": "7ca87580-e88f-4f01-9693-32cd6c93387b"
      },
      "execution_count": 15,
      "outputs": [
        {
          "output_type": "execute_result",
          "data": {
            "text/plain": [
              "[6, 5, 4, 2, 2]"
            ]
          },
          "metadata": {},
          "execution_count": 15
        }
      ]
    },
    {
      "cell_type": "code",
      "source": [
        "n1=arr[0]\n",
        "n2=arr[1]\n",
        "result=0"
      ],
      "metadata": {
        "id": "8glBzC1bY5OO"
      },
      "execution_count": 16,
      "outputs": []
    },
    {
      "cell_type": "code",
      "source": [
        "while True: # C처럼 내부루프에서 외부루프를 조정해보려했지만 파이썬에서는 불가능 한것으로 보임임\n",
        "  if(m==0): \n",
        "    break\n",
        "  for _ in range(k):\n",
        "    result += n1\n",
        "    m -= 1\n",
        "  result += n2\n",
        "  m -= 1"
      ],
      "metadata": {
        "id": "vyprEHF1dsp3"
      },
      "execution_count": 17,
      "outputs": []
    },
    {
      "cell_type": "code",
      "source": [
        "# for i in range(10):\n",
        "#   for j in range(10):\n",
        "#     i+=1;"
      ],
      "metadata": {
        "id": "TDb_Q3iqeuUn"
      },
      "execution_count": null,
      "outputs": []
    },
    {
      "cell_type": "code",
      "source": [
        "result"
      ],
      "metadata": {
        "colab": {
          "base_uri": "https://localhost:8080/"
        },
        "id": "fWe4Nc-daO8C",
        "outputId": "3ace8778-7a90-409e-d339-2c85632277d3"
      },
      "execution_count": 18,
      "outputs": [
        {
          "output_type": "execute_result",
          "data": {
            "text/plain": [
              "46"
            ]
          },
          "metadata": {},
          "execution_count": 18
        }
      ]
    },
    {
      "cell_type": "code",
      "source": [],
      "metadata": {
        "id": "_E1f96Q4efJa"
      },
      "execution_count": null,
      "outputs": []
    }
  ]
}