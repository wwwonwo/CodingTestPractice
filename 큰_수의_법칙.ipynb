{
  "nbformat": 4,
  "nbformat_minor": 0,
  "metadata": {
    "colab": {
      "provenance": [],
      "authorship_tag": "ABX9TyMIZYPj5LB7aWY6V2Bi3m/q"
    },
    "kernelspec": {
      "name": "python3",
      "display_name": "Python 3"
    },
    "language_info": {
      "name": "python"
    }
  },
  "cells": [
    {
      "cell_type": "code",
      "execution_count": null,
      "metadata": {
        "colab": {
          "base_uri": "https://localhost:8080/"
        },
        "id": "_IVAQf61X18T",
        "outputId": "ab6a230a-5a2b-4887-eccc-5d7ba9ca6a9f"
      },
      "outputs": [
        {
          "name": "stdout",
          "output_type": "stream",
          "text": [
            "5 8 3\n"
          ]
        }
      ],
      "source": [
        "#v1\n",
        "n, m, k = map(int,input().split())"
      ]
    },
    {
      "cell_type": "code",
      "source": [
        "print(n,m,k)"
      ],
      "metadata": {
        "colab": {
          "base_uri": "https://localhost:8080/"
        },
        "id": "wg3PzHdCYY71",
        "outputId": "e19b9c87-6abe-4dc4-9c6b-8f7471df2d2d"
      },
      "execution_count": null,
      "outputs": [
        {
          "output_type": "stream",
          "name": "stdout",
          "text": [
            "5 8 3\n"
          ]
        }
      ]
    },
    {
      "cell_type": "code",
      "source": [
        "arr = list(map(int,input().split()))"
      ],
      "metadata": {
        "colab": {
          "base_uri": "https://localhost:8080/"
        },
        "id": "8GAzFGKYYkwS",
        "outputId": "96f5e33d-bd6d-41f4-9b75-c8eaa67feedc"
      },
      "execution_count": null,
      "outputs": [
        {
          "name": "stdout",
          "output_type": "stream",
          "text": [
            "2 4 5 2 6\n"
          ]
        }
      ]
    },
    {
      "cell_type": "code",
      "source": [
        "arr"
      ],
      "metadata": {
        "colab": {
          "base_uri": "https://localhost:8080/"
        },
        "id": "QqgDfhUKY27-",
        "outputId": "9f94f965-1863-4805-8a80-f59962280042"
      },
      "execution_count": null,
      "outputs": [
        {
          "output_type": "execute_result",
          "data": {
            "text/plain": [
              "[2, 4, 5, 2, 6]"
            ]
          },
          "metadata": {},
          "execution_count": 6
        }
      ]
    },
    {
      "cell_type": "code",
      "source": [
        "arr.sort(reverse=True) # 리스트를 정렬하는게 포인트트"
      ],
      "metadata": {
        "id": "DSiLwmeOYvEm"
      },
      "execution_count": null,
      "outputs": []
    },
    {
      "cell_type": "code",
      "source": [
        "arr"
      ],
      "metadata": {
        "colab": {
          "base_uri": "https://localhost:8080/"
        },
        "id": "Hu2IlEVFY4fJ",
        "outputId": "7ca87580-e88f-4f01-9693-32cd6c93387b"
      },
      "execution_count": null,
      "outputs": [
        {
          "output_type": "execute_result",
          "data": {
            "text/plain": [
              "[6, 5, 4, 2, 2]"
            ]
          },
          "metadata": {},
          "execution_count": 15
        }
      ]
    },
    {
      "cell_type": "code",
      "source": [
        "n1=arr[0]\n",
        "n2=arr[1]\n",
        "result=0"
      ],
      "metadata": {
        "id": "8glBzC1bY5OO"
      },
      "execution_count": null,
      "outputs": []
    },
    {
      "cell_type": "code",
      "source": [
        "while True:\n",
        "  if(m==0): \n",
        "    break\n",
        "  for _ in range(k):\n",
        "    result += n1\n",
        "    m -= 1\n",
        "  result += n2\n",
        "  m -= 1"
      ],
      "metadata": {
        "id": "vyprEHF1dsp3"
      },
      "execution_count": null,
      "outputs": []
    },
    {
      "cell_type": "code",
      "source": [
        "# C처럼 내부루프에서 외부루프를 조정해보려했지만 파이썬에서는 불가능 한것으로 보임임\n",
        "# for i in range(10):\n",
        "#   for j in range(10):\n",
        "#     i+=1;"
      ],
      "metadata": {
        "id": "TDb_Q3iqeuUn"
      },
      "execution_count": null,
      "outputs": []
    },
    {
      "cell_type": "code",
      "source": [
        "result"
      ],
      "metadata": {
        "colab": {
          "base_uri": "https://localhost:8080/"
        },
        "id": "fWe4Nc-daO8C",
        "outputId": "3ace8778-7a90-409e-d339-2c85632277d3"
      },
      "execution_count": null,
      "outputs": [
        {
          "output_type": "execute_result",
          "data": {
            "text/plain": [
              "46"
            ]
          },
          "metadata": {},
          "execution_count": 18
        }
      ]
    },
    {
      "cell_type": "code",
      "source": [
        "#v2\n",
        "n, m, k = map(int,input().split())\n",
        "arr = list(map(int,input().split()))"
      ],
      "metadata": {
        "id": "_E1f96Q4efJa",
        "outputId": "f691e121-4068-4773-80af-bfea663a2ea9",
        "colab": {
          "base_uri": "https://localhost:8080/"
        }
      },
      "execution_count": 2,
      "outputs": [
        {
          "name": "stdout",
          "output_type": "stream",
          "text": [
            "5 8 3\n",
            "2 4 5 4 6\n"
          ]
        }
      ]
    },
    {
      "cell_type": "code",
      "source": [
        "arr.sort(reverse=True)"
      ],
      "metadata": {
        "id": "IAhgrJv9jlGg",
        "outputId": "17fae44f-1422-457e-9e1b-65db72f40901",
        "colab": {
          "base_uri": "https://localhost:8080/"
        }
      },
      "execution_count": 6,
      "outputs": [
        {
          "output_type": "execute_result",
          "data": {
            "text/plain": [
              "[6, 5, 4, 4, 2]"
            ]
          },
          "metadata": {},
          "execution_count": 6
        }
      ]
    },
    {
      "cell_type": "code",
      "source": [
        "first = arr[0]\n",
        "second = arr[1]\n",
        "result = (first*k+second)*(m//(k+1)) + (m%(k+1))*first"
      ],
      "metadata": {
        "id": "Jn_2stnNj2Dq"
      },
      "execution_count": 9,
      "outputs": []
    },
    {
      "cell_type": "code",
      "source": [
        "result"
      ],
      "metadata": {
        "id": "sWs7GJkLkIiZ",
        "outputId": "c5bdabdd-5cd8-4ac4-f062-e34c0df71c59",
        "colab": {
          "base_uri": "https://localhost:8080/"
        }
      },
      "execution_count": 10,
      "outputs": [
        {
          "output_type": "execute_result",
          "data": {
            "text/plain": [
              "46"
            ]
          },
          "metadata": {},
          "execution_count": 10
        }
      ]
    }
  ]
}