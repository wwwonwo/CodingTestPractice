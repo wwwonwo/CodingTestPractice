{
  "nbformat": 4,
  "nbformat_minor": 0,
  "metadata": {
    "colab": {
      "provenance": [],
      "authorship_tag": "ABX9TyOu1Srt5IcneCTz97D0p88h"
    },
    "kernelspec": {
      "name": "python3",
      "display_name": "Python 3"
    },
    "language_info": {
      "name": "python"
    }
  },
  "cells": [
    {
      "cell_type": "code",
      "execution_count": 18,
      "metadata": {
        "colab": {
          "base_uri": "https://localhost:8080/"
        },
        "id": "sQC0sd51v8S1",
        "outputId": "36297a24-5926-4ad8-8822-e78964f4a963"
      },
      "outputs": [
        {
          "name": "stdout",
          "output_type": "stream",
          "text": [
            "17 4\n"
          ]
        }
      ],
      "source": [
        "n, k = map(int,input().split())"
      ]
    },
    {
      "cell_type": "code",
      "source": [
        "t=n%k"
      ],
      "metadata": {
        "id": "NJdEinKv4G5h"
      },
      "execution_count": 19,
      "outputs": []
    },
    {
      "cell_type": "code",
      "source": [
        "while True:\n",
        "  if n==1: break\n",
        "  n//=k\n",
        "  t+=1"
      ],
      "metadata": {
        "id": "j0loRCHx2KO0"
      },
      "execution_count": 20,
      "outputs": []
    },
    {
      "cell_type": "code",
      "source": [
        "t"
      ],
      "metadata": {
        "colab": {
          "base_uri": "https://localhost:8080/"
        },
        "id": "F3HYj8cx4ka-",
        "outputId": "e56604e1-266a-4b01-a6f1-a4a62d9de20e"
      },
      "execution_count": 21,
      "outputs": [
        {
          "output_type": "execute_result",
          "data": {
            "text/plain": [
              "3"
            ]
          },
          "metadata": {},
          "execution_count": 21
        }
      ]
    },
    {
      "cell_type": "code",
      "source": [],
      "metadata": {
        "id": "f7YI48394mcY"
      },
      "execution_count": null,
      "outputs": []
    }
  ]
}