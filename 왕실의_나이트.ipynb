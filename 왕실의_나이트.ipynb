{
  "nbformat": 4,
  "nbformat_minor": 0,
  "metadata": {
    "colab": {
      "provenance": [],
      "authorship_tag": "ABX9TyMd9Yu3ZGTJIz/wl1Z6tArz"
    },
    "kernelspec": {
      "name": "python3",
      "display_name": "Python 3"
    },
    "language_info": {
      "name": "python"
    }
  },
  "cells": [
    {
      "cell_type": "code",
      "execution_count": 11,
      "metadata": {
        "colab": {
          "base_uri": "https://localhost:8080/"
        },
        "id": "1AMCHE6zM59Z",
        "outputId": "7c314c63-45cf-469c-b195-50975075c783"
      },
      "outputs": [
        {
          "name": "stdout",
          "output_type": "stream",
          "text": [
            "a1\n"
          ]
        }
      ],
      "source": [
        "s = input()"
      ]
    },
    {
      "cell_type": "code",
      "source": [
        "alpha=ord(s[0])\n",
        "num=int(s[-1])"
      ],
      "metadata": {
        "id": "MYswXv5kPQCv"
      },
      "execution_count": 15,
      "outputs": []
    },
    {
      "cell_type": "code",
      "source": [
        "moves=[\n",
        "    (2,-1),\n",
        "    (2,1),\n",
        "    (-1,-2),\n",
        "    (1,-2),\n",
        "    (-1,2),\n",
        "    (1,2),\n",
        "    (-2,-1),\n",
        "    (-2,1)\n",
        "]"
      ],
      "metadata": {
        "id": "gygFL_vjPe_D"
      },
      "execution_count": 18,
      "outputs": []
    },
    {
      "cell_type": "code",
      "source": [
        "moves[0]"
      ],
      "metadata": {
        "colab": {
          "base_uri": "https://localhost:8080/"
        },
        "id": "BAk-9KBxQ2TY",
        "outputId": "f0994ebf-f60c-4f5e-edc7-2a6e024a8029"
      },
      "execution_count": 8,
      "outputs": [
        {
          "output_type": "execute_result",
          "data": {
            "text/plain": [
              "(2, -1)"
            ]
          },
          "metadata": {},
          "execution_count": 8
        }
      ]
    },
    {
      "cell_type": "code",
      "source": [
        "c = 0\n",
        "for dx,dy in moves:\n",
        "  x=alpha\n",
        "  y=num\n",
        "  x += dx\n",
        "  y += dy\n",
        "  if (ord('a') <= x) and (x <= ord('h')) and (1 <= y) and (y <= 8) :\n",
        "    c+=1"
      ],
      "metadata": {
        "id": "Y7JzzV1rP5Mh"
      },
      "execution_count": 19,
      "outputs": []
    },
    {
      "cell_type": "code",
      "source": [
        "print(c)"
      ],
      "metadata": {
        "colab": {
          "base_uri": "https://localhost:8080/"
        },
        "id": "D-363_qbRb2y",
        "outputId": "b6cc9871-03f5-47bc-a7e4-bd97ebaee62d"
      },
      "execution_count": 20,
      "outputs": [
        {
          "output_type": "stream",
          "name": "stdout",
          "text": [
            "2\n"
          ]
        }
      ]
    }
  ]
}